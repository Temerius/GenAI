{
  "nbformat": 4,
  "nbformat_minor": 0,
  "metadata": {
    "colab": {
      "provenance": [],
      "authorship_tag": "ABX9TyP/sIyo9TdQpHtFa5xSGJWb",
      "include_colab_link": true
    },
    "kernelspec": {
      "name": "python3",
      "display_name": "Python 3"
    },
    "language_info": {
      "name": "python"
    }
  },
  "cells": [
    {
      "cell_type": "markdown",
      "metadata": {
        "id": "view-in-github",
        "colab_type": "text"
      },
      "source": [
        "<a href=\"https://colab.research.google.com/github/Temerius/GenAI/blob/main/tarot.ipynb\" target=\"_parent\"><img src=\"https://colab.research.google.com/assets/colab-badge.svg\" alt=\"Open In Colab\"/></a>"
      ]
    },
    {
      "cell_type": "code",
      "source": [
        "import os\n",
        "import requests\n",
        "import re\n",
        "import sys\n",
        "import json\n",
        "\n",
        "from random import choice\n",
        "from bs4 import BeautifulSoup\n",
        "from openai import AzureOpenAI\n",
        "from google.colab import userdata"
      ],
      "metadata": {
        "id": "2gqRvoSu8m2a"
      },
      "execution_count": 15,
      "outputs": []
    },
    {
      "cell_type": "code",
      "source": [
        "def get_links(response):\n",
        "\n",
        "    soup = BeautifulSoup(response.content, 'html.parser')\n",
        "    card_links = []\n",
        "\n",
        "    for link in soup.find_all('a', href=True):\n",
        "        href = link['href']\n",
        "        if href.startswith('/tarot/cards/'):\n",
        "            card_links.append(\"https://www.tarot.com\"+href)\n",
        "\n",
        "    # for link in card_links:\n",
        "    #     print(link)\n",
        "\n",
        "    return card_links"
      ],
      "metadata": {
        "id": "hsMzVGraSmDa"
      },
      "execution_count": 3,
      "outputs": []
    },
    {
      "cell_type": "code",
      "source": [
        "def get_card_info(url):\n",
        "\n",
        "    response = requests.get(url)\n",
        "    if response.status_code == 200:\n",
        "\n",
        "        soup = BeautifulSoup(response.content, 'html.parser')\n",
        "        meanings_dict = {}\n",
        "        headers_to_find = ['upright', 'reversed', 'advice', 'love', 'career', 'yesno']\n",
        "\n",
        "        for header in headers_to_find:\n",
        "            header_tag = soup.find('h3', id=header)\n",
        "            if header_tag:\n",
        "                paragraphs = []\n",
        "                for sibling in header_tag.find_next_siblings():\n",
        "                    if sibling.name != 'p':\n",
        "                        break\n",
        "                    paragraphs.append(sibling.get_text(strip=True))\n",
        "                meanings_dict[header] = paragraphs[0]\n",
        "\n",
        "        # for key, value in meanings_dict.items():\n",
        "        #     print(f\"{key}: {value}\")\n",
        "\n",
        "    else:\n",
        "        print(f\"Failed to retrieve data: {response.status_code}\")\n",
        "\n",
        "    return meanings_dict if meanings_dict else \"\""
      ],
      "metadata": {
        "id": "hJXVpVAxSyU1"
      },
      "execution_count": 4,
      "outputs": []
    },
    {
      "cell_type": "code",
      "source": [
        "url = \"https://www.tarot.com/tarot/cards\"\n",
        "\n",
        "response = requests.get(url)\n",
        "card_names = []\n",
        "tarot_cards = {}\n",
        "\n",
        "if response.status_code == 200:\n",
        "\n",
        "    card_links = get_links(response)\n",
        "    for card_link in card_links:\n",
        "        card_names.append(card_link.split('/')[-1])\n",
        "\n",
        "    for index, card_link in enumerate(card_links):\n",
        "        card_info = get_card_info(card_link)\n",
        "        tarot_cards[card_names[index]] = card_info\n",
        "\n",
        "    # for card, value in tarot_cards.items():\n",
        "    #     print(f\"Card: {card}, value: {value}\")\n",
        "\n",
        "else:\n",
        "    print(f\"Failed to retrieve data: {response.status_code}\")"
      ],
      "metadata": {
        "id": "NNIhrc0h-Sa-"
      },
      "execution_count": 5,
      "outputs": []
    },
    {
      "cell_type": "code",
      "source": [
        "sys.getsizeof(tarot_cards)"
      ],
      "metadata": {
        "colab": {
          "base_uri": "https://localhost:8080/"
        },
        "id": "puZjBQj-OL2i",
        "outputId": "36f2fdbb-a497-445c-cb82-930e47a368f8"
      },
      "execution_count": 6,
      "outputs": [
        {
          "output_type": "execute_result",
          "data": {
            "text/plain": [
              "2272"
            ]
          },
          "metadata": {},
          "execution_count": 6
        }
      ]
    },
    {
      "cell_type": "code",
      "source": [
        "def draw_cards(card_names, num=3):\n",
        "    if num > len(card_names):\n",
        "        raise ValueError(\"Number of cards to draw exceeds the available cards.\")\n",
        "\n",
        "    drawn_cards = []\n",
        "    dup_check = set()\n",
        "\n",
        "    for _ in range(num):\n",
        "        card = choice(card_names)\n",
        "        while card in dup_check:\n",
        "            card = choice(card_names)\n",
        "        dup_check.add(card)\n",
        "        is_reversed = choice([True, False])\n",
        "        drawn_cards.append((card, is_reversed))\n",
        "\n",
        "    return drawn_cards"
      ],
      "metadata": {
        "id": "BQgJx9ILdulh"
      },
      "execution_count": 8,
      "outputs": []
    },
    {
      "cell_type": "code",
      "source": [
        "draw_cards(card_names)"
      ],
      "metadata": {
        "colab": {
          "base_uri": "https://localhost:8080/"
        },
        "id": "8UbOFcj7kW6K",
        "outputId": "b4c0b116-290f-4089-8f96-205bae3f5271"
      },
      "execution_count": 9,
      "outputs": [
        {
          "output_type": "execute_result",
          "data": {
            "text/plain": [
              "[('eight-of-coins', False), ('ten-of-wands', True), ('the-magician', True)]"
            ]
          },
          "metadata": {},
          "execution_count": 9
        }
      ]
    },
    {
      "cell_type": "code",
      "source": [
        "def get_selected_cards_info(selected_cards, question_type):\n",
        "    if question_type == \"general\":\n",
        "        question_type = \"upright\"\n",
        "    selected_cards_info = []\n",
        "    for card, reversed in selected_cards:\n",
        "        if reversed:\n",
        "           selected_cards_info.append((card, tarot_cards[card][\"reversed\"]))\n",
        "        else:\n",
        "            selected_cards_info.append((card, tarot_cards[card][question_type]))\n",
        "    return selected_cards_info"
      ],
      "metadata": {
        "id": "lx-QAkhi3LoB"
      },
      "execution_count": 10,
      "outputs": []
    },
    {
      "cell_type": "code",
      "source": [
        "api_key = userdata.get('AZURE_OPENAI_API_KEY')\n",
        "endpoint = userdata.get('AZURE_OPENAI_ENDPOINT')"
      ],
      "metadata": {
        "id": "H0Iy3M8SAj9n"
      },
      "execution_count": 22,
      "outputs": []
    },
    {
      "cell_type": "code",
      "source": [
        "max_tokens_cls = 50\n",
        "max_tokens_tarot = 550\n",
        "client = AzureOpenAI(\n",
        "    azure_endpoint=endpoint,\n",
        "    api_key=api_key,\n",
        "    api_version=\"2024-02-01\"\n",
        ")\n",
        "\n",
        "user_info = \"Name: John Doe, Date of Birth: January 15, 1990\"\n",
        "\n",
        "messages_cls = [\n",
        "    {\"role\": \"system\", \"content\": \"You are a helpful assistant that classifies user questions into one of the categories: 'advice', 'love', 'career', 'yesno', or 'general'.\"},\n",
        "    {\"role\": \"user\", \"content\": \"What should I do to improve my relationship?\"},\n",
        "    {\"role\": \"assistant\", \"content\": \"advice\"},\n",
        "    {\"role\": \"user\", \"content\": \"Will I meet someone special soon?\"},\n",
        "    {\"role\": \"assistant\", \"content\": \"yesno\"},\n",
        "    {\"role\": \"user\", \"content\": \"How can I get a promotion at work?\"},\n",
        "    {\"role\": \"assistant\", \"content\": \"career\"},\n",
        "    {\"role\": \"user\", \"content\": \"What can I do to find true love?\"},\n",
        "    {\"role\": \"assistant\", \"content\": \"love\"},\n",
        "    {\"role\": \"user\", \"content\": \"What should I consider before making a big decision?\"},\n",
        "    {\"role\": \"assistant\", \"content\": \"general\"}\n",
        "]\n",
        "\n",
        "messages_tarot = [\n",
        "    {\"role\": \"system\", \"content\": \"You are a tarot reader who provides insightful advice based on the user's question, the three drawn tarot cards, and the user's information. Your response should be thoughtful, relevant to the question type, and concise, ideally within 500 characters.\"}\n",
        "]\n",
        "\n",
        "while True:\n",
        "    user_question = input(\"User (q/Q to quit): \")\n",
        "    if user_question in {\"q\", \"Q\"}:\n",
        "        print(\"Ai: Byebye\")\n",
        "        break\n",
        "\n",
        "    response = client.chat.completions.create(\n",
        "        model=\"gpt-4o-mini\",\n",
        "        messages=messages_cls + [{\"role\": \"user\", \"content\": f\"{user_question}\"}],\n",
        "        max_tokens=max_tokens_cls\n",
        "    )\n",
        "\n",
        "    question_type = response.choices[0].message.content\n",
        "    print(f\"Question type: {question_type}\")\n",
        "\n",
        "    if question_type in {\"advice\", \"love\", \"career\", \"yesno\", \"general\"}:\n",
        "        selected_cards = draw_cards(card_names)\n",
        "        print(selected_cards)\n",
        "\n",
        "        selected_cards_info = get_selected_cards_info(selected_cards, question_type)\n",
        "\n",
        "        user_prompt = (\n",
        "            f\"User question: {user_question}\\n\"\n",
        "            f\"User Information: {user_info}\\n\"\n",
        "            f\"Question type: {question_type}\\n\"\n",
        "            f\"Selected tarot cards and their meanings:\\n\"\n",
        "            f\"- {selected_cards_info[0][0]}: {selected_cards_info[0][1]}\\n\"\n",
        "            f\"- {selected_cards_info[1][0]}: {selected_cards_info[1][1]}\\n\"\n",
        "            f\"- {selected_cards_info[2][0]}: {selected_cards_info[2][1]}\"\n",
        "        )\n",
        "\n",
        "        response = client.chat.completions.create(\n",
        "            model=\"gpt-4o-mini\",\n",
        "            messages=messages_tarot + [{\"role\": \"user\", \"content\": f\"{user_prompt}\"}],\n",
        "            max_tokens=max_tokens_tarot\n",
        "        )\n",
        "        print(response.choices[0].message.content)"
      ],
      "metadata": {
        "colab": {
          "base_uri": "https://localhost:8080/"
        },
        "id": "674BCo8skaj8",
        "outputId": "b9bc7d2d-2013-4c7f-fabb-4a4d574ae219"
      },
      "execution_count": 23,
      "outputs": [
        {
          "output_type": "stream",
          "name": "stdout",
          "text": [
            "User (q/Q to quit): Is now a good time to invest in stocks?\n",
            "Question type: yesno\n",
            "[('three-of-coins', False), ('six-of-swords', True), ('the-high-priestess', True)]\n",
            "John, the tarot suggests that now is indeed a good time to invest in stocks (Three of Coins). Your collaborative efforts could lead to fruitful results. However, the Six of Swords reversed warns you to stay grounded and rational in your decisions; don't let emotions cloud your judgment. The reversed High Priestess indicates a need to balance your inner thoughts with external realities; engage with others for insights and support. Trust your skills and seek guidance from those around you, but remain objective in your investments.\n",
            "User (q/Q to quit): q\n",
            "Ai: Byebye\n"
          ]
        }
      ]
    },
    {
      "cell_type": "code",
      "source": [],
      "metadata": {
        "id": "S7oh5R6ho39N"
      },
      "execution_count": 11,
      "outputs": []
    }
  ]
}